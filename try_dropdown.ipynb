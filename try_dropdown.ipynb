{
 "cells": [
  {
   "cell_type": "code",
   "execution_count": 4,
   "id": "invisible-excellence",
   "metadata": {},
   "outputs": [],
   "source": [
    "def train_model(button, file):\n",
    "    #print(\"model trained and saved using this {1}.format(file)\") \n",
    "    print(\"model trained and saved using this \", file )\n",
    "    print(\"train_model\")"
   ]
  },
  {
   "cell_type": "code",
   "execution_count": 5,
   "id": "distant-plymouth",
   "metadata": {},
   "outputs": [
    {
     "data": {
      "application/vnd.jupyter.widget-view+json": {
       "model_id": "adaff3440c69491988a7c2140dd3ae9d",
       "version_major": 2,
       "version_minor": 0
      },
      "text/plain": [
       "Dropdown(description='Choose a file:', options=('glove.6B.50d', 'glove.6B.100d', 'glove.6B.200d', 'glove.6B.30…"
      ]
     },
     "metadata": {},
     "output_type": "display_data"
    },
    {
     "data": {
      "application/vnd.jupyter.widget-view+json": {
       "model_id": "cbc2812d37cc45fcaa6941440df53ce6",
       "version_major": 2,
       "version_minor": 0
      },
      "text/plain": [
       "Button(description='Train', style=ButtonStyle())"
      ]
     },
     "metadata": {},
     "output_type": "display_data"
    },
    {
     "ename": "TypeError",
     "evalue": "train_model() missing 1 required positional argument: 'file'",
     "output_type": "error",
     "traceback": [
      "\u001b[1;31m---------------------------------------------------------------------------\u001b[0m",
      "\u001b[1;31mTypeError\u001b[0m                                 Traceback (most recent call last)",
      "\u001b[1;32m<ipython-input-5-8a43de253c1f>\u001b[0m in \u001b[0;36m<module>\u001b[1;34m\u001b[0m\n\u001b[0;32m     14\u001b[0m \u001b[0mbtn\u001b[0m\u001b[1;33m=\u001b[0m\u001b[0mButton\u001b[0m\u001b[1;33m(\u001b[0m\u001b[0mdescription\u001b[0m\u001b[1;33m=\u001b[0m\u001b[1;34m\"Train\"\u001b[0m\u001b[1;33m)\u001b[0m\u001b[1;33m\u001b[0m\u001b[1;33m\u001b[0m\u001b[0m\n\u001b[0;32m     15\u001b[0m \u001b[0mdisplay\u001b[0m\u001b[1;33m(\u001b[0m\u001b[0mbtn\u001b[0m\u001b[1;33m)\u001b[0m\u001b[1;33m\u001b[0m\u001b[1;33m\u001b[0m\u001b[0m\n\u001b[1;32m---> 16\u001b[1;33m \u001b[0mbtn\u001b[0m\u001b[1;33m.\u001b[0m\u001b[0mon_click\u001b[0m\u001b[1;33m(\u001b[0m\u001b[0mtrain_model\u001b[0m\u001b[1;33m(\u001b[0m\u001b[0mfile\u001b[0m\u001b[1;33m)\u001b[0m\u001b[1;33m)\u001b[0m \u001b[1;31m#predict is not defined will give error\u001b[0m\u001b[1;33m\u001b[0m\u001b[1;33m\u001b[0m\u001b[0m\n\u001b[0m",
      "\u001b[1;31mTypeError\u001b[0m: train_model() missing 1 required positional argument: 'file'"
     ]
    }
   ],
   "source": [
    "from IPython.display import display\n",
    "from ipywidgets import Dropdown, Button\n",
    "\n",
    "def dropdown_eventhandler(change):\n",
    "    print(change.new)\n",
    "\n",
    "#define dropdown\n",
    "option_list = ('glove.6B.50d','glove.6B.100d','glove.6B.200d','glove.6B.300d')\n",
    "file = Dropdown(description=\"Choose a file:\", options=option_list)\n",
    "file.observe(dropdown_eventhandler, names='value')\n",
    "display(file)\n",
    "\n",
    "# define button\n",
    "btn=Button(description=\"Train\")\n",
    "display(btn)\n",
    "btn.on_click(train_model(file)) #predict is not defined will give error\n"
   ]
  },
  {
   "cell_type": "code",
   "execution_count": null,
   "id": "sunrise-greensboro",
   "metadata": {},
   "outputs": [],
   "source": [
    "btn=Button(description=\"Train\")\n",
    "display(btn)\n",
    "btn.on_click(train_model) #predict is not defined will give error"
   ]
  }
 ],
 "metadata": {
  "kernelspec": {
   "display_name": "Python 3",
   "language": "python",
   "name": "python3"
  },
  "language_info": {
   "codemirror_mode": {
    "name": "ipython",
    "version": 3
   },
   "file_extension": ".py",
   "mimetype": "text/x-python",
   "name": "python",
   "nbconvert_exporter": "python",
   "pygments_lexer": "ipython3",
   "version": "3.7.9"
  },
  "varInspector": {
   "cols": {
    "lenName": 16,
    "lenType": 16,
    "lenVar": 40
   },
   "kernels_config": {
    "python": {
     "delete_cmd_postfix": "",
     "delete_cmd_prefix": "del ",
     "library": "var_list.py",
     "varRefreshCmd": "print(var_dic_list())"
    },
    "r": {
     "delete_cmd_postfix": ") ",
     "delete_cmd_prefix": "rm(",
     "library": "var_list.r",
     "varRefreshCmd": "cat(var_dic_list()) "
    }
   },
   "types_to_exclude": [
    "module",
    "function",
    "builtin_function_or_method",
    "instance",
    "_Feature"
   ],
   "window_display": false
  }
 },
 "nbformat": 4,
 "nbformat_minor": 5
}
